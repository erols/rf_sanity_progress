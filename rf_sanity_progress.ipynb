{
 "cells": [
  {
   "cell_type": "code",
   "execution_count": 3,
   "metadata": {
    "collapsed": true,
    "pycharm": {
     "is_executing": false
    }
   },
   "outputs": [],
   "source": [
    "import pandas as pd\n",
    "from matplotlib import pyplot as plt\n",
    "import numpy as np\n",
    "from jira import JIRA\n",
    "import requests\n",
    "import os\n",
    "from datetime import date, timedelta, datetime"
   ]
  },
  {
   "cell_type": "code",
   "execution_count": 4,
   "outputs": [],
   "source": [
    "jira_username = os.environ['JIRA_USER']\n",
    "jira_password = os.environ['JIRA_PASSWORD']\n",
    "jira_url = os.environ['JIRA_SERVER']\n",
    "\n",
    "jira_options = {'server': jira_url}\n",
    "jira = JIRA(options=jira_options, basic_auth=(jira_username, jira_password))"
   ],
   "metadata": {
    "collapsed": false,
    "pycharm": {
     "name": "#%%\n",
     "is_executing": false
    }
   }
  },
  {
   "cell_type": "code",
   "execution_count": 19,
   "outputs": [],
   "source": [
    "def get_users_from_jira():\n",
    "    sanity_cases_users = jira.search_issues(\"filter = 'Filter for Q3 Automation'\", fields=['key', 'summary', 'assignee', 'status'], maxResults=200)\n",
    "    dt = {\n",
    "    'summary': [],\n",
    "    'status': [],\n",
    "    'assignee': []\n",
    "    }\n",
    "    idx = []\n",
    "\n",
    "    for case in sanity_cases_users:\n",
    "        idx.append(case)\n",
    "        dt['summary'].append(case.fields.summary)\n",
    "        dt['status'].append(case.fields.status)\n",
    "        dt['assignee'].append(case.fields.assignee)\n",
    "    \n",
    "    sanity_cases_users = pd.DataFrame(dt, index=idx)\n",
    "    sanity_cases_users['status'] = sanity_cases_users['status'].astype(str)\n",
    "    return sanity_cases_users    "
   ],
   "metadata": {
    "collapsed": false,
    "pycharm": {
     "name": "#%%\n",
     "is_executing": false
    }
   }
  },
  {
   "cell_type": "code",
   "execution_count": 6,
   "outputs": [],
   "source": [
    "sanity_cases = jira.search_issues(\"filter = 'Filter for Q3 Automation' AND labels = Sanity\", fields=['key', 'summary', 'assignee', 'status'], maxResults=100)"
   ],
   "metadata": {
    "collapsed": false,
    "pycharm": {
     "name": "#%%\n",
     "is_executing": false
    }
   }
  },
  {
   "cell_type": "code",
   "execution_count": 51,
   "outputs": [
    {
     "data": {
      "text/plain": "                                                    summary       status  \\\nHES-4335                     Profiles - Switch your profile         Done   \nHES-4331  Profiles - Profile Renaming across different p...  In Progress   \nHES-4330              Profiles - Delete an existing profile         Done   \nHES-4329                    REPLAY: Verify Watchlist events         Done   \nHES-4324              ReplayTV- Playout from Search results         Done   \n...                                                     ...          ...   \nHES-462   VOD TrickPlay - Check \"FF\" with( x2, x6, x30, ...    In Review   \nHES-461                          VOD Free  assets - Playing    In Review   \nHES-460                          Validation of VOD by genre         Done   \nHES-458         VOD Functinality for Purchasing a new asset         Done   \nHES-455        VOD Functinality for already Purchased asset  In Progress   \n\n                          assignee  \nHES-4335       Vishwanand Upadhyay  \nHES-4331  Aiswariya Byju (infosys)  \nHES-4330   Sukanya Dutta (Infosys)  \nHES-4329   Lerin Lorance (Infosys)  \nHES-4324               Anuj Teotia  \n...                            ...  \nHES-462               Vivek Mishra  \nHES-461               Vivek Mishra  \nHES-460               Vivek Mishra  \nHES-458               Vivek Mishra  \nHES-455    Deepak Sharma (Infosys)  \n\n[61 rows x 3 columns]",
      "text/html": "<div>\n<style scoped>\n    .dataframe tbody tr th:only-of-type {\n        vertical-align: middle;\n    }\n\n    .dataframe tbody tr th {\n        vertical-align: top;\n    }\n\n    .dataframe thead th {\n        text-align: right;\n    }\n</style>\n<table border=\"1\" class=\"dataframe\">\n  <thead>\n    <tr style=\"text-align: right;\">\n      <th></th>\n      <th>summary</th>\n      <th>status</th>\n      <th>assignee</th>\n    </tr>\n  </thead>\n  <tbody>\n    <tr>\n      <th>HES-4335</th>\n      <td>Profiles - Switch your profile</td>\n      <td>Done</td>\n      <td>Vishwanand Upadhyay</td>\n    </tr>\n    <tr>\n      <th>HES-4331</th>\n      <td>Profiles - Profile Renaming across different p...</td>\n      <td>In Progress</td>\n      <td>Aiswariya Byju (infosys)</td>\n    </tr>\n    <tr>\n      <th>HES-4330</th>\n      <td>Profiles - Delete an existing profile</td>\n      <td>Done</td>\n      <td>Sukanya Dutta (Infosys)</td>\n    </tr>\n    <tr>\n      <th>HES-4329</th>\n      <td>REPLAY: Verify Watchlist events</td>\n      <td>Done</td>\n      <td>Lerin Lorance (Infosys)</td>\n    </tr>\n    <tr>\n      <th>HES-4324</th>\n      <td>ReplayTV- Playout from Search results</td>\n      <td>Done</td>\n      <td>Anuj Teotia</td>\n    </tr>\n    <tr>\n      <th>HES-4323</th>\n      <td>ReplayTV- Playout from Channel bar</td>\n      <td>Done</td>\n      <td>Anuj Teotia</td>\n    </tr>\n    <tr>\n      <th>HES-4310</th>\n      <td>Picture in Picture functionality for Replay</td>\n      <td>In Review</td>\n      <td>Anuj Teotia</td>\n    </tr>\n    <tr>\n      <th>HES-4309</th>\n      <td>Picture in Picture functionality for VOD</td>\n      <td>In Progress</td>\n      <td>Vivek Mishra</td>\n    </tr>\n    <tr>\n      <th>HES-4308</th>\n      <td>Picture in Picture functionality for LTV</td>\n      <td>In Review</td>\n      <td>Vishwanand Upadhyay</td>\n    </tr>\n    <tr>\n      <th>HES-4307</th>\n      <td>VOD Functinality for already Purchased asset -...</td>\n      <td>In Review</td>\n      <td>Vivek Mishra</td>\n    </tr>\n    <tr>\n      <th>HES-4306</th>\n      <td>VOD Functinality for already Purchased asset -...</td>\n      <td>In Review</td>\n      <td>Vivek Mishra</td>\n    </tr>\n    <tr>\n      <th>HES-4305</th>\n      <td>VOD Functinality for already Purchased asset -...</td>\n      <td>In Review</td>\n      <td>Vivek Mishra</td>\n    </tr>\n    <tr>\n      <th>HES-2888</th>\n      <td>Profiles - Favorite channels - Temporary chann...</td>\n      <td>In Review</td>\n      <td>None</td>\n    </tr>\n    <tr>\n      <th>HES-2886</th>\n      <td>Profiles - Favorite channels - Personal profiles</td>\n      <td>In Review</td>\n      <td>None</td>\n    </tr>\n    <tr>\n      <th>HES-2870</th>\n      <td>Profiles - Manage &amp; Edit your profile</td>\n      <td>In Progress</td>\n      <td>None</td>\n    </tr>\n    <tr>\n      <th>HES-2867</th>\n      <td>Profiles - Profile creation wizard - Naming th...</td>\n      <td>Done</td>\n      <td>Vishwanand Upadhyay</td>\n    </tr>\n    <tr>\n      <th>HES-2825</th>\n      <td>Replay TV Catalogue - Play an Asset and Watch ...</td>\n      <td>Done</td>\n      <td>Anuj Teotia</td>\n    </tr>\n    <tr>\n      <th>HES-2546</th>\n      <td>Radio Portal: Display of Available Stations</td>\n      <td>In Review</td>\n      <td>Shyleen Rodrigues (infosys)</td>\n    </tr>\n    <tr>\n      <th>HES-1944</th>\n      <td>Trickplay Drag &amp; drop: Showing a marker and mi...</td>\n      <td>New</td>\n      <td>Pruthvika Gugri (Infosys)</td>\n    </tr>\n    <tr>\n      <th>HES-1943</th>\n      <td>Trickplay Drag &amp; drop: Showing a marker and mi...</td>\n      <td>New</td>\n      <td>Pruthvika Gugri (Infosys)</td>\n    </tr>\n    <tr>\n      <th>HES-1000</th>\n      <td>Contextual Main Menu for Settings</td>\n      <td>In Review</td>\n      <td>Shyleen Rodrigues (infosys)</td>\n    </tr>\n    <tr>\n      <th>HES-859</th>\n      <td>VOD TrickPlay - Check Rewind with( x2, x6, x30...</td>\n      <td>In Review</td>\n      <td>Vivek Mishra</td>\n    </tr>\n    <tr>\n      <th>HES-852</th>\n      <td>Search : Behaviour of Contextual Main Menu</td>\n      <td>Done</td>\n      <td>Sushma Sangondimath (Infosys)</td>\n    </tr>\n    <tr>\n      <th>HES-849</th>\n      <td>Apps: Behaviour of Contextual Main Menu</td>\n      <td>Done</td>\n      <td>Deepak Sharma (Infosys)</td>\n    </tr>\n    <tr>\n      <th>HES-848</th>\n      <td>Saved : Behaviour of contextual main menu</td>\n      <td>In Review</td>\n      <td>Amal Philip</td>\n    </tr>\n    <tr>\n      <th>HES-847</th>\n      <td>Trickplay Drag &amp; drop: Showing a marker and mi...</td>\n      <td>New</td>\n      <td>Pruthvika Gugri (Infosys)</td>\n    </tr>\n    <tr>\n      <th>HES-846</th>\n      <td>On Demand : Behaviour of Contextual Main Menu</td>\n      <td>In Review</td>\n      <td>Deepak Sharma (Infosys)</td>\n    </tr>\n    <tr>\n      <th>HES-843</th>\n      <td>TV Guide : Behaviour of Contextual Main Menu</td>\n      <td>In Review</td>\n      <td>Anuj Teotia</td>\n    </tr>\n    <tr>\n      <th>HES-840</th>\n      <td>Auto launching Netflix application through Net...</td>\n      <td>In Review</td>\n      <td>Deepthi Mariam Thomas</td>\n    </tr>\n    <tr>\n      <th>HES-677</th>\n      <td>VOD: Verify Watchlist events</td>\n      <td>In Progress</td>\n      <td>Vasanthamohan Subramani</td>\n    </tr>\n    <tr>\n      <th>...</th>\n      <td>...</td>\n      <td>...</td>\n      <td>...</td>\n    </tr>\n    <tr>\n      <th>HES-669</th>\n      <td>Recording: Trick play functionality</td>\n      <td>In Progress</td>\n      <td>Vikshith Bisilahalli Vishwanath (Infosys)</td>\n    </tr>\n    <tr>\n      <th>HES-555</th>\n      <td>VOD Portal: Verify Asset detail page</td>\n      <td>Done</td>\n      <td>Vivek Mishra</td>\n    </tr>\n    <tr>\n      <th>HES-490</th>\n      <td>Recording detail page</td>\n      <td>In Progress</td>\n      <td>Vikshith Bisilahalli Vishwanath (Infosys)</td>\n    </tr>\n    <tr>\n      <th>HES-487</th>\n      <td>EPG Validation</td>\n      <td>In Review</td>\n      <td>Raghavendra Gangadhara</td>\n    </tr>\n    <tr>\n      <th>HES-486</th>\n      <td>Start Over - Recording</td>\n      <td>In Progress</td>\n      <td>Vikshith Bisilahalli Vishwanath (Infosys)</td>\n    </tr>\n    <tr>\n      <th>HES-485</th>\n      <td>Start Over from Replay TV content</td>\n      <td>Done</td>\n      <td>Glisa Varghese (Infosys)</td>\n    </tr>\n    <tr>\n      <th>HES-482</th>\n      <td>VOD parental protection</td>\n      <td>In Review</td>\n      <td>Vivek Mishra</td>\n    </tr>\n    <tr>\n      <th>HES-481</th>\n      <td>AGE restricted events</td>\n      <td>In Review</td>\n      <td>Raghavendra Gangadhara</td>\n    </tr>\n    <tr>\n      <th>HES-480</th>\n      <td>Locked Channels</td>\n      <td>In Review</td>\n      <td>Vishwanand Upadhyay</td>\n    </tr>\n    <tr>\n      <th>HES-479</th>\n      <td>REC Recommendation</td>\n      <td>In Review</td>\n      <td>Raghavendra Gangadhara</td>\n    </tr>\n    <tr>\n      <th>HES-478</th>\n      <td>VOD Recommendation</td>\n      <td>Done</td>\n      <td>Deepak Sharma (Infosys)</td>\n    </tr>\n    <tr>\n      <th>HES-477</th>\n      <td>LTV Recommendation</td>\n      <td>In Progress</td>\n      <td>Vishwanand Upadhyay</td>\n    </tr>\n    <tr>\n      <th>HES-476</th>\n      <td>Validate whether Apps are working or not</td>\n      <td>In Review</td>\n      <td>Vishwanand Upadhyay</td>\n    </tr>\n    <tr>\n      <th>HES-475</th>\n      <td>DVRRB, DVRAS -  Exit the recording during play...</td>\n      <td>In Review</td>\n      <td>Raghavendra Gangadhara</td>\n    </tr>\n    <tr>\n      <th>HES-474</th>\n      <td>DVRRB, DVRAS - End of REC playout</td>\n      <td>In Review</td>\n      <td>Sushma Sangondimath (Infosys)</td>\n    </tr>\n    <tr>\n      <th>HES-473</th>\n      <td>DVRRB, DVRAS- Slow motion video</td>\n      <td>In Review</td>\n      <td>Raghavendra Gangadhara</td>\n    </tr>\n    <tr>\n      <th>HES-472</th>\n      <td>DVRAS-REC playback</td>\n      <td>In Review</td>\n      <td>Raghavendra Gangadhara</td>\n    </tr>\n    <tr>\n      <th>HES-471</th>\n      <td>DVRRB-REC playback</td>\n      <td>In Review</td>\n      <td>Raghavendra Gangadhara</td>\n    </tr>\n    <tr>\n      <th>HES-470</th>\n      <td>Schedule a new recording for ongoing event in ...</td>\n      <td>Done</td>\n      <td>Sushma Sangondimath (Infosys)</td>\n    </tr>\n    <tr>\n      <th>HES-469</th>\n      <td>FF from VSPP content into LIVE content</td>\n      <td>In Review</td>\n      <td>Raghavendra Gangadhara</td>\n    </tr>\n    <tr>\n      <th>HES-468</th>\n      <td>REW into VSPP content from  CPE RAM content</td>\n      <td>In Review</td>\n      <td>Raghavendra Gangadhara</td>\n    </tr>\n    <tr>\n      <th>HES-467</th>\n      <td>Replay TV - Trick-play modes</td>\n      <td>Done</td>\n      <td>Lerin Lorance (Infosys)</td>\n    </tr>\n    <tr>\n      <th>HES-466</th>\n      <td>Playback of Replay TV Content -  Aired Events</td>\n      <td>Done</td>\n      <td>Lerin Lorance (Infosys)</td>\n    </tr>\n    <tr>\n      <th>HES-465</th>\n      <td>Mainmenu Search</td>\n      <td>In Progress</td>\n      <td>Vikshith Bisilahalli Vishwanath (Infosys)</td>\n    </tr>\n    <tr>\n      <th>HES-463</th>\n      <td>Linear content playback</td>\n      <td>In Progress</td>\n      <td>Vishwanand Upadhyay</td>\n    </tr>\n    <tr>\n      <th>HES-462</th>\n      <td>VOD TrickPlay - Check \"FF\" with( x2, x6, x30, ...</td>\n      <td>In Review</td>\n      <td>Vivek Mishra</td>\n    </tr>\n    <tr>\n      <th>HES-461</th>\n      <td>VOD Free  assets - Playing</td>\n      <td>In Review</td>\n      <td>Vivek Mishra</td>\n    </tr>\n    <tr>\n      <th>HES-460</th>\n      <td>Validation of VOD by genre</td>\n      <td>Done</td>\n      <td>Vivek Mishra</td>\n    </tr>\n    <tr>\n      <th>HES-458</th>\n      <td>VOD Functinality for Purchasing a new asset</td>\n      <td>Done</td>\n      <td>Vivek Mishra</td>\n    </tr>\n    <tr>\n      <th>HES-455</th>\n      <td>VOD Functinality for already Purchased asset</td>\n      <td>In Progress</td>\n      <td>Deepak Sharma (Infosys)</td>\n    </tr>\n  </tbody>\n</table>\n<p>61 rows × 3 columns</p>\n</div>"
     },
     "metadata": {},
     "output_type": "execute_result",
     "execution_count": 51
    }
   ],
   "source": [
    "data = {\n",
    "    'summary': [],\n",
    "    'status': [],\n",
    "    'assignee': []\n",
    "}\n",
    "index = []\n",
    "\n",
    "for c in sanity_cases:\n",
    "    index.append(c)\n",
    "    data['summary'].append(c.fields.summary)\n",
    "    data['status'].append(c.fields.status)\n",
    "    data['assignee'].append(c.fields.assignee)\n",
    "    \n",
    "sanity_cases_frame = pd.DataFrame(data, index=index)\n",
    "\n",
    "# sanity_cases_frame\n",
    "sanity_cases_frame['status'] = sanity_cases_frame['status'].astype(str)\n",
    "sanity_cases_frame\n",
    "# print(sanity_cases_frame.dtypes)"
   ],
   "metadata": {
    "collapsed": false,
    "pycharm": {
     "name": "#%%\n",
     "is_executing": false
    }
   }
  },
  {
   "cell_type": "code",
   "execution_count": 52,
   "outputs": [
    {
     "name": "stdout",
     "text": [
      "61\n61\n"
     ],
     "output_type": "stream"
    },
    {
     "data": {
      "text/plain": "                                                    summary status  \\\nHES-4335                     Profiles - Switch your profile   Done   \nHES-4330              Profiles - Delete an existing profile   Done   \nHES-4329                    REPLAY: Verify Watchlist events   Done   \nHES-4324              ReplayTV- Playout from Search results   Done   \nHES-4323                 ReplayTV- Playout from Channel bar   Done   \nHES-2867  Profiles - Profile creation wizard - Naming th...   Done   \nHES-2825  Replay TV Catalogue - Play an Asset and Watch ...   Done   \nHES-852         Search : Behaviour of Contextual Main Menu    Done   \nHES-849            Apps: Behaviour of Contextual Main Menu    Done   \nHES-673                               LTV : Channel Zapping   Done   \nHES-555                VOD Portal: Verify Asset detail page   Done   \nHES-485                   Start Over from Replay TV content   Done   \nHES-478                                  VOD Recommendation   Done   \nHES-470   Schedule a new recording for ongoing event in ...   Done   \nHES-467                        Replay TV - Trick-play modes   Done   \nHES-466       Playback of Replay TV Content -  Aired Events   Done   \nHES-460                          Validation of VOD by genre   Done   \nHES-458         VOD Functinality for Purchasing a new asset   Done   \n\n                               assignee  \nHES-4335            Vishwanand Upadhyay  \nHES-4330        Sukanya Dutta (Infosys)  \nHES-4329        Lerin Lorance (Infosys)  \nHES-4324                    Anuj Teotia  \nHES-4323                    Anuj Teotia  \nHES-2867            Vishwanand Upadhyay  \nHES-2825                    Anuj Teotia  \nHES-852   Sushma Sangondimath (Infosys)  \nHES-849         Deepak Sharma (Infosys)  \nHES-673         Deepak Sharma (Infosys)  \nHES-555                    Vivek Mishra  \nHES-485        Glisa Varghese (Infosys)  \nHES-478         Deepak Sharma (Infosys)  \nHES-470   Sushma Sangondimath (Infosys)  \nHES-467         Lerin Lorance (Infosys)  \nHES-466         Lerin Lorance (Infosys)  \nHES-460                    Vivek Mishra  \nHES-458                    Vivek Mishra  ",
      "text/html": "<div>\n<style scoped>\n    .dataframe tbody tr th:only-of-type {\n        vertical-align: middle;\n    }\n\n    .dataframe tbody tr th {\n        vertical-align: top;\n    }\n\n    .dataframe thead th {\n        text-align: right;\n    }\n</style>\n<table border=\"1\" class=\"dataframe\">\n  <thead>\n    <tr style=\"text-align: right;\">\n      <th></th>\n      <th>summary</th>\n      <th>status</th>\n      <th>assignee</th>\n    </tr>\n  </thead>\n  <tbody>\n    <tr>\n      <th>HES-4335</th>\n      <td>Profiles - Switch your profile</td>\n      <td>Done</td>\n      <td>Vishwanand Upadhyay</td>\n    </tr>\n    <tr>\n      <th>HES-4330</th>\n      <td>Profiles - Delete an existing profile</td>\n      <td>Done</td>\n      <td>Sukanya Dutta (Infosys)</td>\n    </tr>\n    <tr>\n      <th>HES-4329</th>\n      <td>REPLAY: Verify Watchlist events</td>\n      <td>Done</td>\n      <td>Lerin Lorance (Infosys)</td>\n    </tr>\n    <tr>\n      <th>HES-4324</th>\n      <td>ReplayTV- Playout from Search results</td>\n      <td>Done</td>\n      <td>Anuj Teotia</td>\n    </tr>\n    <tr>\n      <th>HES-4323</th>\n      <td>ReplayTV- Playout from Channel bar</td>\n      <td>Done</td>\n      <td>Anuj Teotia</td>\n    </tr>\n    <tr>\n      <th>HES-2867</th>\n      <td>Profiles - Profile creation wizard - Naming th...</td>\n      <td>Done</td>\n      <td>Vishwanand Upadhyay</td>\n    </tr>\n    <tr>\n      <th>HES-2825</th>\n      <td>Replay TV Catalogue - Play an Asset and Watch ...</td>\n      <td>Done</td>\n      <td>Anuj Teotia</td>\n    </tr>\n    <tr>\n      <th>HES-852</th>\n      <td>Search : Behaviour of Contextual Main Menu</td>\n      <td>Done</td>\n      <td>Sushma Sangondimath (Infosys)</td>\n    </tr>\n    <tr>\n      <th>HES-849</th>\n      <td>Apps: Behaviour of Contextual Main Menu</td>\n      <td>Done</td>\n      <td>Deepak Sharma (Infosys)</td>\n    </tr>\n    <tr>\n      <th>HES-673</th>\n      <td>LTV : Channel Zapping</td>\n      <td>Done</td>\n      <td>Deepak Sharma (Infosys)</td>\n    </tr>\n    <tr>\n      <th>HES-555</th>\n      <td>VOD Portal: Verify Asset detail page</td>\n      <td>Done</td>\n      <td>Vivek Mishra</td>\n    </tr>\n    <tr>\n      <th>HES-485</th>\n      <td>Start Over from Replay TV content</td>\n      <td>Done</td>\n      <td>Glisa Varghese (Infosys)</td>\n    </tr>\n    <tr>\n      <th>HES-478</th>\n      <td>VOD Recommendation</td>\n      <td>Done</td>\n      <td>Deepak Sharma (Infosys)</td>\n    </tr>\n    <tr>\n      <th>HES-470</th>\n      <td>Schedule a new recording for ongoing event in ...</td>\n      <td>Done</td>\n      <td>Sushma Sangondimath (Infosys)</td>\n    </tr>\n    <tr>\n      <th>HES-467</th>\n      <td>Replay TV - Trick-play modes</td>\n      <td>Done</td>\n      <td>Lerin Lorance (Infosys)</td>\n    </tr>\n    <tr>\n      <th>HES-466</th>\n      <td>Playback of Replay TV Content -  Aired Events</td>\n      <td>Done</td>\n      <td>Lerin Lorance (Infosys)</td>\n    </tr>\n    <tr>\n      <th>HES-460</th>\n      <td>Validation of VOD by genre</td>\n      <td>Done</td>\n      <td>Vivek Mishra</td>\n    </tr>\n    <tr>\n      <th>HES-458</th>\n      <td>VOD Functinality for Purchasing a new asset</td>\n      <td>Done</td>\n      <td>Vivek Mishra</td>\n    </tr>\n  </tbody>\n</table>\n</div>"
     },
     "metadata": {},
     "output_type": "execute_result",
     "execution_count": 52
    }
   ],
   "source": [
    "print(len(sanity_cases_frame.index))\n",
    "copy_sanity = sanity_cases_frame.copy()\n",
    "print(len(copy_sanity.index))\n",
    "copy_sanity\n",
    "t = copy_sanity[copy_sanity.status == 'Done']\n",
    "t"
   ],
   "metadata": {
    "collapsed": false,
    "pycharm": {
     "name": "#%%\n",
     "is_executing": false
    }
   }
  },
  {
   "cell_type": "code",
   "execution_count": 53,
   "outputs": [
    {
     "data": {
      "text/plain": "<Figure size 432x288 with 1 Axes>",
      "image/png": "[encoded data removed]"
     },
     "metadata": {
      "needs_background": "light"
     },
     "output_type": "display_data"
    }
   ],
   "source": [
    "statuses = ['Done', 'In Review', 'In Progress', 'New', 'Deferred']\n",
    "nums = []\n",
    "for s in statuses:\n",
    "    tmp_df = sanity_cases_frame.copy()\n",
    "    tmp_df = tmp_df[tmp_df['status'] == s] \n",
    "    nums.append(len(tmp_df.index))\n",
    "\n",
    "# sanity_cases_frame\n",
    "y_pos = np.arange(len(statuses))\n",
    "# plt.bar(y_pos, nums, align='center')\n",
    "plt.xticks(y_pos, statuses)\n",
    "plt.ylabel('# Test Cases')\n",
    "plt.title('Sanity Test Case Progress')\n",
    "plt.bar(y_pos, nums, align='center')\n",
    "# plt.show()\n",
    "plt.savefig('barchart.png')"
   ],
   "metadata": {
    "collapsed": false,
    "pycharm": {
     "name": "#%%\n",
     "is_executing": false
    }
   }
  },
  {
   "cell_type": "code",
   "execution_count": 54,
   "outputs": [
    {
     "data": {
      "text/plain": "<Figure size 432x288 with 1 Axes>",
      "image/png": "[encoded data removed]"
     },
     "metadata": {},
     "output_type": "display_data"
    }
   ],
   "source": [
    "explode = (0.1,0,0,0,0)\n",
    "colors = ['green', 'blue', 'yellow', 'red', 'grey']\n",
    "plt.pie(nums, labels=statuses, explode=explode, colors=colors, autopct='%1.1f%%', startangle=140, shadow=True)\n",
    "plt.axis('equal')\n",
    "plt.savefig('pie.png')\n",
    "plt.show()"
   ],
   "metadata": {
    "collapsed": false,
    "pycharm": {
     "name": "#%%\n",
     "is_executing": false
    }
   }
  },
  {
   "cell_type": "code",
   "execution_count": 20,
   "outputs": [
    {
     "name": "stdout",
     "text": [
      "Vikshith Bisilahalli Vishwanath (Infosys)\nAiswariya Byju (infosys)\nSushma Sangondimath (Infosys)\nDeepthi Mariam Thomas\nVivek Mishra\nPraveen Rao\nLeya Abraham (Infosys)\nSatya Damry\nTenkayala Thulasi (Infosys)\nAmal Philip\nGlisa Varghese (Infosys)\nShyleen Rodrigues (infosys)\nSukanya Dutta (Infosys)\nRaghavendra Gangadhara\nNone\nShanmuga Priyan Mohan\nVignesh B12 (Infosys)\nAnuj Teotia\nDeepak Sharma (Infosys)\nAkampan Dey (Infosys)\nShilpa Thorat\nVasanthamohan Subramani\nLerin Lorance (Infosys)\nPruthvika Gugri (Infosys)\nFernando Cobos\nVishwanand Upadhyay\nHarikesh Oothrayil Sreekanthan\n"
     ],
     "output_type": "stream"
    }
   ],
   "source": [
    "tmp = get_users_from_jira()\n",
    "tmp = tmp.assignee\n",
    "assignees = list(set(tmp.tolist()))\n",
    "\n",
    "\n",
    "def get_name(obj):\n",
    "    if obj is not None:\n",
    "        return obj.displayName\n",
    "\n",
    "usernames = map(get_name, assignees)\n",
    "for n in usernames:\n",
    "    print(n)\n",
    "\n",
    "\n"
   ],
   "metadata": {
    "collapsed": false,
    "pycharm": {
     "name": "#%%\n",
     "is_executing": false
    }
   }
  },
  {
   "cell_type": "code",
   "execution_count": null,
   "outputs": [],
   "source": [
    "\n"
   ],
   "metadata": {
    "collapsed": false,
    "pycharm": {
     "name": "#%%\n"
    }
   }
  }
 ],
 "metadata": {
  "language_info": {
   "codemirror_mode": {
    "name": "ipython",
    "version": 2
   },
   "file_extension": ".py",
   "mimetype": "text/x-python",
   "name": "python",
   "nbconvert_exporter": "python",
   "pygments_lexer": "ipython2",
   "version": "2.7.6"
  },
  "kernelspec": {
   "name": "python3",
   "language": "python",
   "display_name": "Python 3"
  },
  "pycharm": {
   "stem_cell": {
    "cell_type": "raw",
    "source": [],
    "metadata": {
     "collapsed": false
    }
   }
  }
 },
 "nbformat": 4,
 "nbformat_minor": 0
}